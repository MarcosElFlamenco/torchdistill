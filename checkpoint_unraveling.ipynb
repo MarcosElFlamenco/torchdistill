{
 "cells": [
  {
   "cell_type": "code",
   "execution_count": 22,
   "metadata": {},
   "outputs": [
    {
     "name": "stdout",
     "output_type": "stream",
     "text": [
      "dict_keys(['model', 'optimizer', 'best_value', 'lr_scheduler', 'args'])\n"
     ]
    },
    {
     "data": {
      "text/plain": [
       "ResNet4Cifar(\n",
       "  (conv1): Conv2d(3, 16, kernel_size=(3, 3), stride=(1, 1), padding=(1, 1), bias=False)\n",
       "  (bn1): BatchNorm2d(16, eps=1e-05, momentum=0.1, affine=True, track_running_stats=True)\n",
       "  (relu): ReLU(inplace=True)\n",
       "  (layer1): Sequential(\n",
       "    (0): BasicBlock(\n",
       "      (conv1): Conv2d(16, 16, kernel_size=(3, 3), stride=(1, 1), padding=(1, 1), bias=False)\n",
       "      (bn1): BatchNorm2d(16, eps=1e-05, momentum=0.1, affine=True, track_running_stats=True)\n",
       "      (relu): ReLU(inplace=True)\n",
       "      (conv2): Conv2d(16, 16, kernel_size=(3, 3), stride=(1, 1), padding=(1, 1), bias=False)\n",
       "      (bn2): BatchNorm2d(16, eps=1e-05, momentum=0.1, affine=True, track_running_stats=True)\n",
       "    )\n",
       "    (1): BasicBlock(\n",
       "      (conv1): Conv2d(16, 16, kernel_size=(3, 3), stride=(1, 1), padding=(1, 1), bias=False)\n",
       "      (bn1): BatchNorm2d(16, eps=1e-05, momentum=0.1, affine=True, track_running_stats=True)\n",
       "      (relu): ReLU(inplace=True)\n",
       "      (conv2): Conv2d(16, 16, kernel_size=(3, 3), stride=(1, 1), padding=(1, 1), bias=False)\n",
       "      (bn2): BatchNorm2d(16, eps=1e-05, momentum=0.1, affine=True, track_running_stats=True)\n",
       "    )\n",
       "    (2): BasicBlock(\n",
       "      (conv1): Conv2d(16, 16, kernel_size=(3, 3), stride=(1, 1), padding=(1, 1), bias=False)\n",
       "      (bn1): BatchNorm2d(16, eps=1e-05, momentum=0.1, affine=True, track_running_stats=True)\n",
       "      (relu): ReLU(inplace=True)\n",
       "      (conv2): Conv2d(16, 16, kernel_size=(3, 3), stride=(1, 1), padding=(1, 1), bias=False)\n",
       "      (bn2): BatchNorm2d(16, eps=1e-05, momentum=0.1, affine=True, track_running_stats=True)\n",
       "    )\n",
       "  )\n",
       "  (layer2): Sequential(\n",
       "    (0): BasicBlock(\n",
       "      (conv1): Conv2d(16, 32, kernel_size=(3, 3), stride=(2, 2), padding=(1, 1), bias=False)\n",
       "      (bn1): BatchNorm2d(32, eps=1e-05, momentum=0.1, affine=True, track_running_stats=True)\n",
       "      (relu): ReLU(inplace=True)\n",
       "      (conv2): Conv2d(32, 32, kernel_size=(3, 3), stride=(1, 1), padding=(1, 1), bias=False)\n",
       "      (bn2): BatchNorm2d(32, eps=1e-05, momentum=0.1, affine=True, track_running_stats=True)\n",
       "      (downsample): Sequential(\n",
       "        (0): Conv2d(16, 32, kernel_size=(1, 1), stride=(2, 2), bias=False)\n",
       "        (1): BatchNorm2d(32, eps=1e-05, momentum=0.1, affine=True, track_running_stats=True)\n",
       "      )\n",
       "    )\n",
       "    (1): BasicBlock(\n",
       "      (conv1): Conv2d(32, 32, kernel_size=(3, 3), stride=(1, 1), padding=(1, 1), bias=False)\n",
       "      (bn1): BatchNorm2d(32, eps=1e-05, momentum=0.1, affine=True, track_running_stats=True)\n",
       "      (relu): ReLU(inplace=True)\n",
       "      (conv2): Conv2d(32, 32, kernel_size=(3, 3), stride=(1, 1), padding=(1, 1), bias=False)\n",
       "      (bn2): BatchNorm2d(32, eps=1e-05, momentum=0.1, affine=True, track_running_stats=True)\n",
       "    )\n",
       "    (2): BasicBlock(\n",
       "      (conv1): Conv2d(32, 32, kernel_size=(3, 3), stride=(1, 1), padding=(1, 1), bias=False)\n",
       "      (bn1): BatchNorm2d(32, eps=1e-05, momentum=0.1, affine=True, track_running_stats=True)\n",
       "      (relu): ReLU(inplace=True)\n",
       "      (conv2): Conv2d(32, 32, kernel_size=(3, 3), stride=(1, 1), padding=(1, 1), bias=False)\n",
       "      (bn2): BatchNorm2d(32, eps=1e-05, momentum=0.1, affine=True, track_running_stats=True)\n",
       "    )\n",
       "  )\n",
       "  (layer3): Sequential(\n",
       "    (0): BasicBlock(\n",
       "      (conv1): Conv2d(32, 64, kernel_size=(3, 3), stride=(2, 2), padding=(1, 1), bias=False)\n",
       "      (bn1): BatchNorm2d(64, eps=1e-05, momentum=0.1, affine=True, track_running_stats=True)\n",
       "      (relu): ReLU(inplace=True)\n",
       "      (conv2): Conv2d(64, 64, kernel_size=(3, 3), stride=(1, 1), padding=(1, 1), bias=False)\n",
       "      (bn2): BatchNorm2d(64, eps=1e-05, momentum=0.1, affine=True, track_running_stats=True)\n",
       "      (downsample): Sequential(\n",
       "        (0): Conv2d(32, 64, kernel_size=(1, 1), stride=(2, 2), bias=False)\n",
       "        (1): BatchNorm2d(64, eps=1e-05, momentum=0.1, affine=True, track_running_stats=True)\n",
       "      )\n",
       "    )\n",
       "    (1): BasicBlock(\n",
       "      (conv1): Conv2d(64, 64, kernel_size=(3, 3), stride=(1, 1), padding=(1, 1), bias=False)\n",
       "      (bn1): BatchNorm2d(64, eps=1e-05, momentum=0.1, affine=True, track_running_stats=True)\n",
       "      (relu): ReLU(inplace=True)\n",
       "      (conv2): Conv2d(64, 64, kernel_size=(3, 3), stride=(1, 1), padding=(1, 1), bias=False)\n",
       "      (bn2): BatchNorm2d(64, eps=1e-05, momentum=0.1, affine=True, track_running_stats=True)\n",
       "    )\n",
       "    (2): BasicBlock(\n",
       "      (conv1): Conv2d(64, 64, kernel_size=(3, 3), stride=(1, 1), padding=(1, 1), bias=False)\n",
       "      (bn1): BatchNorm2d(64, eps=1e-05, momentum=0.1, affine=True, track_running_stats=True)\n",
       "      (relu): ReLU(inplace=True)\n",
       "      (conv2): Conv2d(64, 64, kernel_size=(3, 3), stride=(1, 1), padding=(1, 1), bias=False)\n",
       "      (bn2): BatchNorm2d(64, eps=1e-05, momentum=0.1, affine=True, track_running_stats=True)\n",
       "    )\n",
       "  )\n",
       "  (avgpool): AvgPool2d(kernel_size=8, stride=1, padding=0)\n",
       "  (fc): Linear(in_features=64, out_features=5, bias=True)\n",
       ")"
      ]
     },
     "execution_count": 22,
     "metadata": {},
     "output_type": "execute_result"
    }
   ],
   "source": [
    "import torch\n",
    "import torchdistill.models.classification.resnet as rn\n",
    "device = \"cpu\"\n",
    "# Load the original checkpoint with weights_only=False\n",
    "original_checkpoint = torch.load('resource/ckpt/cifar10/kd/cifar10_resnet20_from_densenet100.pth',weights_only=False)\n",
    "print(original_checkpoint.keys())\n",
    "state_dict = original_checkpoint[\"model\"]\n",
    "model = rn.resnet(20,5,False,False)\n",
    "model.load_state_dict(original_checkpoint[\"model\"])\n",
    "model.to(device)\n",
    "\n",
    "# Save it again with the default settings (which will be weights_only=True in PyTorch 2.6+)\n",
    "#torch.save(original_checkpoint[\"model\"], 'checkpoints/weightsonly.pth')\n",
    "\n"
   ]
  },
  {
   "cell_type": "code",
   "execution_count": 23,
   "metadata": {},
   "outputs": [],
   "source": [
    "import torchvision\n",
    "import torchvision.transforms as transforms\n",
    "\n",
    "transform = transforms.Compose([\n",
    "    transforms.ToTensor(),\n",
    "    transforms.Normalize((0.5, 0.5, 0.5), (0.5, 0.5, 0.5))\n",
    "])\n",
    "\n",
    "trainset = torchvision.datasets.CIFAR10(root='./data', train=True,\n",
    "                                        download=True, transform=transform)\n",
    "testset = torchvision.datasets.CIFAR10(root='./data', train=False,\n",
    "                                       download=True, transform=transform)"
   ]
  },
  {
   "cell_type": "code",
   "execution_count": null,
   "metadata": {},
   "outputs": [
    {
     "name": "stdout",
     "output_type": "stream",
     "text": [
      "torch.Size([1, 3, 32, 32])\n"
     ]
    }
   ],
   "source": [
    "image = trainset[t][0]\n",
    "batch_image = image.unsqueeze(0)\n",
    "print(batch_image.shape)\n",
    "batch_image.to(device)\n",
    "model.eval()\n",
    "prediction = model(batch_image)"
   ]
  },
  {
   "cell_type": "code",
   "execution_count": 35,
   "metadata": {},
   "outputs": [
    {
     "name": "stdout",
     "output_type": "stream",
     "text": [
      "tensor([[-6.1166, -3.5309,  0.5032,  4.0961,  5.3755]],\n",
      "       grad_fn=<AddmmBackward0>)\n"
     ]
    }
   ],
   "source": [
    "print(prediction)"
   ]
  },
  {
   "cell_type": "code",
   "execution_count": 1,
   "metadata": {},
   "outputs": [],
   "source": [
    "#making my own model\n",
    "import torchvision.models as models\n",
    "import torch\n",
    "\n",
    "\n",
    "model = torch.load(\"checkpoints/mobilenet.pth\", weights_only=False)"
   ]
  },
  {
   "cell_type": "code",
   "execution_count": 4,
   "metadata": {},
   "outputs": [
    {
     "name": "stdout",
     "output_type": "stream",
     "text": [
      "odict_keys(['features.0.0.weight', 'features.0.1.weight', 'features.0.1.bias', 'features.0.1.running_mean', 'features.0.1.running_var', 'features.0.1.num_batches_tracked', 'features.1.conv.0.0.weight', 'features.1.conv.0.1.weight', 'features.1.conv.0.1.bias', 'features.1.conv.0.1.running_mean', 'features.1.conv.0.1.running_var', 'features.1.conv.0.1.num_batches_tracked', 'features.1.conv.1.weight', 'features.1.conv.2.weight', 'features.1.conv.2.bias', 'features.1.conv.2.running_mean', 'features.1.conv.2.running_var', 'features.1.conv.2.num_batches_tracked', 'features.2.conv.0.0.weight', 'features.2.conv.0.1.weight', 'features.2.conv.0.1.bias', 'features.2.conv.0.1.running_mean', 'features.2.conv.0.1.running_var', 'features.2.conv.0.1.num_batches_tracked', 'features.2.conv.1.0.weight', 'features.2.conv.1.1.weight', 'features.2.conv.1.1.bias', 'features.2.conv.1.1.running_mean', 'features.2.conv.1.1.running_var', 'features.2.conv.1.1.num_batches_tracked', 'features.2.conv.2.weight', 'features.2.conv.3.weight', 'features.2.conv.3.bias', 'features.2.conv.3.running_mean', 'features.2.conv.3.running_var', 'features.2.conv.3.num_batches_tracked', 'features.3.conv.0.0.weight', 'features.3.conv.0.1.weight', 'features.3.conv.0.1.bias', 'features.3.conv.0.1.running_mean', 'features.3.conv.0.1.running_var', 'features.3.conv.0.1.num_batches_tracked', 'features.3.conv.1.0.weight', 'features.3.conv.1.1.weight', 'features.3.conv.1.1.bias', 'features.3.conv.1.1.running_mean', 'features.3.conv.1.1.running_var', 'features.3.conv.1.1.num_batches_tracked', 'features.3.conv.2.weight', 'features.3.conv.3.weight', 'features.3.conv.3.bias', 'features.3.conv.3.running_mean', 'features.3.conv.3.running_var', 'features.3.conv.3.num_batches_tracked', 'features.4.conv.0.0.weight', 'features.4.conv.0.1.weight', 'features.4.conv.0.1.bias', 'features.4.conv.0.1.running_mean', 'features.4.conv.0.1.running_var', 'features.4.conv.0.1.num_batches_tracked', 'features.4.conv.1.0.weight', 'features.4.conv.1.1.weight', 'features.4.conv.1.1.bias', 'features.4.conv.1.1.running_mean', 'features.4.conv.1.1.running_var', 'features.4.conv.1.1.num_batches_tracked', 'features.4.conv.2.weight', 'features.4.conv.3.weight', 'features.4.conv.3.bias', 'features.4.conv.3.running_mean', 'features.4.conv.3.running_var', 'features.4.conv.3.num_batches_tracked', 'features.5.conv.0.0.weight', 'features.5.conv.0.1.weight', 'features.5.conv.0.1.bias', 'features.5.conv.0.1.running_mean', 'features.5.conv.0.1.running_var', 'features.5.conv.0.1.num_batches_tracked', 'features.5.conv.1.0.weight', 'features.5.conv.1.1.weight', 'features.5.conv.1.1.bias', 'features.5.conv.1.1.running_mean', 'features.5.conv.1.1.running_var', 'features.5.conv.1.1.num_batches_tracked', 'features.5.conv.2.weight', 'features.5.conv.3.weight', 'features.5.conv.3.bias', 'features.5.conv.3.running_mean', 'features.5.conv.3.running_var', 'features.5.conv.3.num_batches_tracked', 'features.6.conv.0.0.weight', 'features.6.conv.0.1.weight', 'features.6.conv.0.1.bias', 'features.6.conv.0.1.running_mean', 'features.6.conv.0.1.running_var', 'features.6.conv.0.1.num_batches_tracked', 'features.6.conv.1.0.weight', 'features.6.conv.1.1.weight', 'features.6.conv.1.1.bias', 'features.6.conv.1.1.running_mean', 'features.6.conv.1.1.running_var', 'features.6.conv.1.1.num_batches_tracked', 'features.6.conv.2.weight', 'features.6.conv.3.weight', 'features.6.conv.3.bias', 'features.6.conv.3.running_mean', 'features.6.conv.3.running_var', 'features.6.conv.3.num_batches_tracked', 'features.7.conv.0.0.weight', 'features.7.conv.0.1.weight', 'features.7.conv.0.1.bias', 'features.7.conv.0.1.running_mean', 'features.7.conv.0.1.running_var', 'features.7.conv.0.1.num_batches_tracked', 'features.7.conv.1.0.weight', 'features.7.conv.1.1.weight', 'features.7.conv.1.1.bias', 'features.7.conv.1.1.running_mean', 'features.7.conv.1.1.running_var', 'features.7.conv.1.1.num_batches_tracked', 'features.7.conv.2.weight', 'features.7.conv.3.weight', 'features.7.conv.3.bias', 'features.7.conv.3.running_mean', 'features.7.conv.3.running_var', 'features.7.conv.3.num_batches_tracked', 'features.8.conv.0.0.weight', 'features.8.conv.0.1.weight', 'features.8.conv.0.1.bias', 'features.8.conv.0.1.running_mean', 'features.8.conv.0.1.running_var', 'features.8.conv.0.1.num_batches_tracked', 'features.8.conv.1.0.weight', 'features.8.conv.1.1.weight', 'features.8.conv.1.1.bias', 'features.8.conv.1.1.running_mean', 'features.8.conv.1.1.running_var', 'features.8.conv.1.1.num_batches_tracked', 'features.8.conv.2.weight', 'features.8.conv.3.weight', 'features.8.conv.3.bias', 'features.8.conv.3.running_mean', 'features.8.conv.3.running_var', 'features.8.conv.3.num_batches_tracked', 'features.9.conv.0.0.weight', 'features.9.conv.0.1.weight', 'features.9.conv.0.1.bias', 'features.9.conv.0.1.running_mean', 'features.9.conv.0.1.running_var', 'features.9.conv.0.1.num_batches_tracked', 'features.9.conv.1.0.weight', 'features.9.conv.1.1.weight', 'features.9.conv.1.1.bias', 'features.9.conv.1.1.running_mean', 'features.9.conv.1.1.running_var', 'features.9.conv.1.1.num_batches_tracked', 'features.9.conv.2.weight', 'features.9.conv.3.weight', 'features.9.conv.3.bias', 'features.9.conv.3.running_mean', 'features.9.conv.3.running_var', 'features.9.conv.3.num_batches_tracked', 'features.10.conv.0.0.weight', 'features.10.conv.0.1.weight', 'features.10.conv.0.1.bias', 'features.10.conv.0.1.running_mean', 'features.10.conv.0.1.running_var', 'features.10.conv.0.1.num_batches_tracked', 'features.10.conv.1.0.weight', 'features.10.conv.1.1.weight', 'features.10.conv.1.1.bias', 'features.10.conv.1.1.running_mean', 'features.10.conv.1.1.running_var', 'features.10.conv.1.1.num_batches_tracked', 'features.10.conv.2.weight', 'features.10.conv.3.weight', 'features.10.conv.3.bias', 'features.10.conv.3.running_mean', 'features.10.conv.3.running_var', 'features.10.conv.3.num_batches_tracked', 'features.11.conv.0.0.weight', 'features.11.conv.0.1.weight', 'features.11.conv.0.1.bias', 'features.11.conv.0.1.running_mean', 'features.11.conv.0.1.running_var', 'features.11.conv.0.1.num_batches_tracked', 'features.11.conv.1.0.weight', 'features.11.conv.1.1.weight', 'features.11.conv.1.1.bias', 'features.11.conv.1.1.running_mean', 'features.11.conv.1.1.running_var', 'features.11.conv.1.1.num_batches_tracked', 'features.11.conv.2.weight', 'features.11.conv.3.weight', 'features.11.conv.3.bias', 'features.11.conv.3.running_mean', 'features.11.conv.3.running_var', 'features.11.conv.3.num_batches_tracked', 'features.12.conv.0.0.weight', 'features.12.conv.0.1.weight', 'features.12.conv.0.1.bias', 'features.12.conv.0.1.running_mean', 'features.12.conv.0.1.running_var', 'features.12.conv.0.1.num_batches_tracked', 'features.12.conv.1.0.weight', 'features.12.conv.1.1.weight', 'features.12.conv.1.1.bias', 'features.12.conv.1.1.running_mean', 'features.12.conv.1.1.running_var', 'features.12.conv.1.1.num_batches_tracked', 'features.12.conv.2.weight', 'features.12.conv.3.weight', 'features.12.conv.3.bias', 'features.12.conv.3.running_mean', 'features.12.conv.3.running_var', 'features.12.conv.3.num_batches_tracked', 'features.13.conv.0.0.weight', 'features.13.conv.0.1.weight', 'features.13.conv.0.1.bias', 'features.13.conv.0.1.running_mean', 'features.13.conv.0.1.running_var', 'features.13.conv.0.1.num_batches_tracked', 'features.13.conv.1.0.weight', 'features.13.conv.1.1.weight', 'features.13.conv.1.1.bias', 'features.13.conv.1.1.running_mean', 'features.13.conv.1.1.running_var', 'features.13.conv.1.1.num_batches_tracked', 'features.13.conv.2.weight', 'features.13.conv.3.weight', 'features.13.conv.3.bias', 'features.13.conv.3.running_mean', 'features.13.conv.3.running_var', 'features.13.conv.3.num_batches_tracked', 'features.14.conv.0.0.weight', 'features.14.conv.0.1.weight', 'features.14.conv.0.1.bias', 'features.14.conv.0.1.running_mean', 'features.14.conv.0.1.running_var', 'features.14.conv.0.1.num_batches_tracked', 'features.14.conv.1.0.weight', 'features.14.conv.1.1.weight', 'features.14.conv.1.1.bias', 'features.14.conv.1.1.running_mean', 'features.14.conv.1.1.running_var', 'features.14.conv.1.1.num_batches_tracked', 'features.14.conv.2.weight', 'features.14.conv.3.weight', 'features.14.conv.3.bias', 'features.14.conv.3.running_mean', 'features.14.conv.3.running_var', 'features.14.conv.3.num_batches_tracked', 'features.15.conv.0.0.weight', 'features.15.conv.0.1.weight', 'features.15.conv.0.1.bias', 'features.15.conv.0.1.running_mean', 'features.15.conv.0.1.running_var', 'features.15.conv.0.1.num_batches_tracked', 'features.15.conv.1.0.weight', 'features.15.conv.1.1.weight', 'features.15.conv.1.1.bias', 'features.15.conv.1.1.running_mean', 'features.15.conv.1.1.running_var', 'features.15.conv.1.1.num_batches_tracked', 'features.15.conv.2.weight', 'features.15.conv.3.weight', 'features.15.conv.3.bias', 'features.15.conv.3.running_mean', 'features.15.conv.3.running_var', 'features.15.conv.3.num_batches_tracked', 'features.16.conv.0.0.weight', 'features.16.conv.0.1.weight', 'features.16.conv.0.1.bias', 'features.16.conv.0.1.running_mean', 'features.16.conv.0.1.running_var', 'features.16.conv.0.1.num_batches_tracked', 'features.16.conv.1.0.weight', 'features.16.conv.1.1.weight', 'features.16.conv.1.1.bias', 'features.16.conv.1.1.running_mean', 'features.16.conv.1.1.running_var', 'features.16.conv.1.1.num_batches_tracked', 'features.16.conv.2.weight', 'features.16.conv.3.weight', 'features.16.conv.3.bias', 'features.16.conv.3.running_mean', 'features.16.conv.3.running_var', 'features.16.conv.3.num_batches_tracked', 'features.17.conv.0.0.weight', 'features.17.conv.0.1.weight', 'features.17.conv.0.1.bias', 'features.17.conv.0.1.running_mean', 'features.17.conv.0.1.running_var', 'features.17.conv.0.1.num_batches_tracked', 'features.17.conv.1.0.weight', 'features.17.conv.1.1.weight', 'features.17.conv.1.1.bias', 'features.17.conv.1.1.running_mean', 'features.17.conv.1.1.running_var', 'features.17.conv.1.1.num_batches_tracked', 'features.17.conv.2.weight', 'features.17.conv.3.weight', 'features.17.conv.3.bias', 'features.17.conv.3.running_mean', 'features.17.conv.3.running_var', 'features.17.conv.3.num_batches_tracked', 'features.18.0.weight', 'features.18.1.weight', 'features.18.1.bias', 'features.18.1.running_mean', 'features.18.1.running_var', 'features.18.1.num_batches_tracked', 'classifier.1.weight', 'classifier.1.bias'])\n"
     ]
    }
   ],
   "source": [
    "print(model[\"model\"].keys())\n",
    "torch.save(model[\"model\"],\"mobilenetv2.pth\")"
   ]
  },
  {
   "cell_type": "code",
   "execution_count": 17,
   "metadata": {},
   "outputs": [
    {
     "name": "stdout",
     "output_type": "stream",
     "text": [
      "Linear(in_features=64, out_features=5, bias=True)\n",
      "Linear(in_features=64, out_features=5, bias=True)\n"
     ]
    }
   ],
   "source": [
    "# Check the structure of the final layer\n",
    "# For ResNet, it's called fc (fully connected)\n",
    "print(model.fc)\n",
    "# This will show: Linear(in_features=2048, out_features=1000, bias=True)\n",
    "num_output_classes = 5\n",
    "# Replace the final layer with a new one that outputs 5 classes\n",
    "model.fc = torch.nn.Linear(model.fc.in_features, num_output_classes)\n",
    "\n",
    "print(model.fc)\n",
    "\n",
    "torch.save(model,\"checkpoints/ResNet4MiniCifar.pth\")"
   ]
  }
 ],
 "metadata": {
  "kernelspec": {
   "display_name": "distillEnv",
   "language": "python",
   "name": "python3"
  },
  "language_info": {
   "codemirror_mode": {
    "name": "ipython",
    "version": 3
   },
   "file_extension": ".py",
   "mimetype": "text/x-python",
   "name": "python",
   "nbconvert_exporter": "python",
   "pygments_lexer": "ipython3",
   "version": "3.12.3"
  }
 },
 "nbformat": 4,
 "nbformat_minor": 2
}
